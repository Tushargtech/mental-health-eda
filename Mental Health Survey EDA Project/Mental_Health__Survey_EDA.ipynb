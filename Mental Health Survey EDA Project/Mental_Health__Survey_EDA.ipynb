{
  "nbformat": 4,
  "nbformat_minor": 0,
  "metadata": {
    "colab": {
      "private_outputs": true,
      "provenance": [],
      "collapsed_sections": [
        "w6K7xa23Elo4"
      ]
    },
    "kernelspec": {
      "name": "python3",
      "display_name": "Python 3"
    },
    "language_info": {
      "name": "python"
    }
  },
  "cells": [
    {
      "cell_type": "markdown",
      "source": [
        "# **Project Name**    -\n",
        "\n"
      ],
      "metadata": {
        "id": "vncDsAP0Gaoa"
      }
    },
    {
      "cell_type": "markdown",
      "source": [
        "##### **Project Type**    - EDA/Regression/Classification/Unsupervised\n",
        "##### **Contribution**    - Individual\n",
        "##### **Team Member 1 -** - Tushar Garg\n"
      ],
      "metadata": {
        "id": "beRrZCGUAJYm"
      }
    },
    {
      "cell_type": "markdown",
      "source": [
        "# **Project Summary -**"
      ],
      "metadata": {
        "id": "FJNUwmbgGyua"
      }
    },
    {
      "cell_type": "markdown",
      "source": [
        "Write the summary here within 500-600 words.\n",
        "\n",
        "The dataset analyzed originates from a 2014 mental health survey conducted within the tech industry. It comprises responses from 1,259 individuals across various demographic and workplace backgrounds. The dataset explores topics like family history of mental illness, workplace mental health support, anonymity, treatment-seeking behavior, and perceived consequences of discussing mental health at work.\n",
        "\n",
        "The goal of this exploratory data analysis (EDA) was to understand behavioral trends and workplace patterns that influence how employees address mental health concerns. The UBM (Univariate, Bivariate, Multivariate) method was used to extract insights.\n",
        "\n",
        " During preprocessing, we corrected major outliers and cleaned gender responses into standard categories (Male, Female, Other). We also handled inconsistent or non-numeric age entries and removed unrealistic values (<18 and >65).\n",
        "\n",
        "In the univariate analysis phase, we found:\n",
        "\n",
        "- Majority of respondents were Male and aged between 25–35.\n",
        "\n",
        "- Significant work interference due to mental health issues.\n",
        "\n",
        "- Limited awareness about employer-provided mental health benefits.\n",
        "\n",
        "- A considerable number of employees reported lack of trust in anonymity when seeking help.\n",
        "\n",
        "Bivariate analysis highlighted the relationships between treatment and features like gender, age, remote work status, and company size:\n",
        "\n",
        "- Female respondents were slightly more likely to seek treatment than males.\n",
        "\n",
        "- Employees in larger companies were more likely to be aware of mental health benefits.\n",
        "\n",
        "- Remote workers showed treatment-seeking patterns slightly different from non-remote employees.\n",
        "\n",
        "Multivariate analysis included correlation heatmaps and pair plots. Categorical variables were encoded for a correlation matrix, revealing weak to moderate relationships between family history, treatment, and work structure. The pair plot visually confirmed the relationships between age, gender, and treatment behavior.\n",
        "\n",
        "From these analyses, we identified major themes:\n",
        "\n",
        "- Lack of mental health support is still prevalent.\n",
        "\n",
        "- Stigma prevents open conversations about mental health.\n",
        "\n",
        "- There is inadequate training among supervisors to handle such discussions.\n",
        "\n",
        "- Companies often fail to communicate policies clearly.\n",
        "\n",
        "Based on the findings, here are strategic business recommendations:\n",
        "\n",
        "- **Improve Awareness:** Employers must regularly communicate about mental health benefits and support resources.\n",
        "\n",
        "- **Build Trust:** Ensure anonymity and confidentiality when employees seek mental health help.\n",
        "\n",
        "- **Supervisor Training:** Equip leaders with the skills to respond to mental health concerns empathetically.\n",
        "\n",
        "- **Tailored Wellness Programs:** Customize initiatives based on age, gender, remote work, and family history.\n",
        "\n",
        "- **Equal Treatment:** Align mental health policies to match those for physical health in accessibility and importance.\n",
        "\n",
        "This analysis emphasizes that mental health is not a one-size-fits-all issue. Proactive, inclusive, and well-communicated support systems are essential to create healthier tech workplaces. Implementing these strategies can reduce stigma, enhance productivity, and improve employee retention.\n",
        "\n",
        "This project demonstrates the power of structured EDA in uncovering actionable insights from real-world behavioral datasets.\n",
        "\n",
        "This will not only improve employee well-being but also contribute positively to retention, engagement, and overall performance.\n"
      ],
      "metadata": {
        "id": "F6v_1wHtG2nS"
      }
    },
    {
      "cell_type": "markdown",
      "source": [
        "# **GitHub Link -**"
      ],
      "metadata": {
        "id": "w6K7xa23Elo4"
      }
    },
    {
      "cell_type": "markdown",
      "source": [
        "Provide your GitHub Link here."
      ],
      "metadata": {
        "id": "h1o69JH3Eqqn"
      }
    },
    {
      "cell_type": "markdown",
      "source": [
        "# **Problem Statement**\n"
      ],
      "metadata": {
        "id": "yQaldy8SH6Dl"
      }
    },
    {
      "cell_type": "markdown",
      "source": [
        "**Write Problem Statement Here.**\n",
        "\n",
        "Mental health is a critical yet often overlooked aspect of employee well-being, especially in the fast-paced and high-stress environment of the tech industry.\n",
        "\n",
        "Despite growing awareness, many employees continue to face stigma, lack of support, and poor access to mental health resources at the workplace. Employers often lack the data-driven insights needed to design effective, inclusive, and proactive mental health strategies.\n",
        "\n",
        "This project aims to analyze survey data collected from tech workers across various regions to identify patterns in mental health awareness, treatment-seeking behavior, and perceived workplace support.\n",
        "\n",
        "By understanding these patterns through exploratory data analysis (EDA), organizations can be guided toward meaningful actions that improve employee well-being, productivity, and workplace inclusiveness."
      ],
      "metadata": {
        "id": "DpeJGUA3kjGy"
      }
    },
    {
      "cell_type": "markdown",
      "source": [
        "#### **Define Your Business Objective?**"
      ],
      "metadata": {
        "id": "PH-0ReGfmX4f"
      }
    },
    {
      "cell_type": "markdown",
      "source": [
        "Answer Here.\n",
        "\n",
        "The objective of this project is to uncover actionable insights that can help tech organizations better understand the mental health landscape of their workforce.\n",
        "\n",
        "By analyzing employee survey data, we aim to identify patterns in mental health awareness, treatment-seeking behavior, workplace support, and perceptions of stigma.\n",
        "\n",
        "These insights will guide decision-makers in implementing effective mental health policies, promoting a culture of openness, improving resource accessibility, and designing targeted interventions for high-risk groups such as remote workers, younger professionals, and employees with a family history of mental illness.\n",
        "\n",
        "Ultimately, the goal is to empower organizations to create inclusive, supportive, and stigma-free work environments that improve employee well-being, boost productivity, and reduce attrition.\n",
        "\n"
      ],
      "metadata": {
        "id": "PhDvGCAqmjP1"
      }
    },
    {
      "cell_type": "markdown",
      "source": [
        "# **General Guidelines** : -  "
      ],
      "metadata": {
        "id": "mDgbUHAGgjLW"
      }
    },
    {
      "cell_type": "markdown",
      "source": [
        "1.   Well-structured, formatted, and commented code is required.\n",
        "2.   Exception Handling, Production Grade Code & Deployment Ready Code will be a plus. Those students will be awarded some additional credits.\n",
        "     \n",
        "     The additional credits will have advantages over other students during Star Student selection.\n",
        "       \n",
        "             [ Note: - Deployment Ready Code is defined as, the whole .ipynb notebook should be executable in one go\n",
        "                       without a single error logged. ]\n",
        "\n",
        "3.   Each and every logic should have proper comments.\n",
        "4. You may add as many number of charts you want. Make Sure for each and every chart the following format should be answered.\n",
        "        \n",
        "\n",
        "```\n",
        "# Chart visualization code\n",
        "```\n",
        "            \n",
        "\n",
        "*   Why did you pick the specific chart?\n",
        "*   What is/are the insight(s) found from the chart?\n",
        "* Will the gained insights help creating a positive business impact?\n",
        "Are there any insights that lead to negative growth? Justify with specific reason.\n",
        "\n",
        "5. You have to create at least 20 logical & meaningful charts having important insights.\n",
        "\n",
        "\n",
        "[ Hints : - Do the Vizualization in  a structured way while following \"UBM\" Rule.\n",
        "\n",
        "U - Univariate Analysis,\n",
        "\n",
        "B - Bivariate Analysis (Numerical - Categorical, Numerical - Numerical, Categorical - Categorical)\n",
        "\n",
        "M - Multivariate Analysis\n",
        " ]\n",
        "\n",
        "\n",
        "\n"
      ],
      "metadata": {
        "id": "ZrxVaUj-hHfC"
      }
    },
    {
      "cell_type": "markdown",
      "source": [
        "# ***Let's Begin !***"
      ],
      "metadata": {
        "id": "O_i_v8NEhb9l"
      }
    },
    {
      "cell_type": "markdown",
      "source": [
        "## ***1. Know Your Data***"
      ],
      "metadata": {
        "id": "HhfV-JJviCcP"
      }
    },
    {
      "cell_type": "markdown",
      "source": [
        "### Import Libraries"
      ],
      "metadata": {
        "id": "Y3lxredqlCYt"
      }
    },
    {
      "cell_type": "code",
      "source": [
        "# Import Libraries\n",
        "import pandas as pd\n",
        "import numpy as np\n",
        "import seaborn as sns\n",
        "import matplotlib.pyplot as plt"
      ],
      "metadata": {
        "id": "M8Vqi-pPk-HR"
      },
      "execution_count": null,
      "outputs": []
    },
    {
      "cell_type": "markdown",
      "source": [
        "### Dataset Loading"
      ],
      "metadata": {
        "id": "3RnN4peoiCZX"
      }
    },
    {
      "cell_type": "code",
      "source": [
        "# Load Dataset\n",
        "from google.colab import files\n",
        "uploaded = files.upload()"
      ],
      "metadata": {
        "id": "4CkvbW_SlZ_R"
      },
      "execution_count": null,
      "outputs": []
    },
    {
      "cell_type": "markdown",
      "source": [
        "### Dataset First View"
      ],
      "metadata": {
        "id": "x71ZqKXriCWQ"
      }
    },
    {
      "cell_type": "code",
      "source": [
        "# Dataset First Look\n",
        "df = pd.read_csv('survey.csv')\n",
        "df.head()"
      ],
      "metadata": {
        "id": "LWNFOSvLl09H"
      },
      "execution_count": null,
      "outputs": []
    },
    {
      "cell_type": "markdown",
      "source": [
        "### Dataset Rows & Columns count"
      ],
      "metadata": {
        "id": "7hBIi_osiCS2"
      }
    },
    {
      "cell_type": "code",
      "source": [
        "# Dataset Rows & Columns count\n",
        "df.shape"
      ],
      "metadata": {
        "id": "Kllu7SJgmLij"
      },
      "execution_count": null,
      "outputs": []
    },
    {
      "cell_type": "markdown",
      "source": [
        "### Dataset Information"
      ],
      "metadata": {
        "id": "JlHwYmJAmNHm"
      }
    },
    {
      "cell_type": "code",
      "source": [
        "# Dataset Info\n",
        "df.info()"
      ],
      "metadata": {
        "id": "e9hRXRi6meOf"
      },
      "execution_count": null,
      "outputs": []
    },
    {
      "cell_type": "markdown",
      "source": [
        "#### Duplicate Values"
      ],
      "metadata": {
        "id": "35m5QtbWiB9F"
      }
    },
    {
      "cell_type": "code",
      "source": [
        "# Dataset Duplicate Value Count\n",
        "df.duplicated().sum()"
      ],
      "metadata": {
        "id": "1sLdpKYkmox0"
      },
      "execution_count": null,
      "outputs": []
    },
    {
      "cell_type": "markdown",
      "source": [
        "#### Missing Values/Null Values"
      ],
      "metadata": {
        "id": "PoPl-ycgm1ru"
      }
    },
    {
      "cell_type": "code",
      "source": [
        "# Missing Values/Null Values Count\n",
        "df.isnull().sum()"
      ],
      "metadata": {
        "id": "GgHWkxvamxVg"
      },
      "execution_count": null,
      "outputs": []
    },
    {
      "cell_type": "code",
      "source": [
        "# Visualizing the missing values\n",
        "sns.heatmap(df.isnull(),cbar=False)"
      ],
      "metadata": {
        "id": "3q5wnI3om9sJ"
      },
      "execution_count": null,
      "outputs": []
    },
    {
      "cell_type": "markdown",
      "source": [
        "### What did you know about your dataset?"
      ],
      "metadata": {
        "id": "H0kj-8xxnORC"
      }
    },
    {
      "cell_type": "markdown",
      "source": [
        "Answer Here"
      ],
      "metadata": {
        "id": "gfoNAAC-nUe_"
      }
    },
    {
      "cell_type": "markdown",
      "source": [
        "## ***2. Understanding Your Variables***"
      ],
      "metadata": {
        "id": "nA9Y7ga8ng1Z"
      }
    },
    {
      "cell_type": "code",
      "source": [
        "# Dataset Columns\n",
        "df.columns"
      ],
      "metadata": {
        "id": "j7xfkqrt5Ag5"
      },
      "execution_count": null,
      "outputs": []
    },
    {
      "cell_type": "code",
      "source": [
        "# Dataset Describe\n",
        "df.describe()"
      ],
      "metadata": {
        "id": "DnOaZdaE5Q5t"
      },
      "execution_count": null,
      "outputs": []
    },
    {
      "cell_type": "markdown",
      "source": [
        "### Variables Description"
      ],
      "metadata": {
        "id": "PBTbrJXOngz2"
      }
    },
    {
      "cell_type": "markdown",
      "source": [
        "Answer Here"
      ],
      "metadata": {
        "id": "aJV4KIxSnxay"
      }
    },
    {
      "cell_type": "markdown",
      "source": [
        "### Check Unique Values for each variable."
      ],
      "metadata": {
        "id": "u3PMJOP6ngxN"
      }
    },
    {
      "cell_type": "code",
      "source": [
        "# Check Unique Values for each variable.\n",
        "df.nunique()"
      ],
      "metadata": {
        "id": "zms12Yq5n-jE"
      },
      "execution_count": null,
      "outputs": []
    },
    {
      "cell_type": "markdown",
      "source": [
        "## 3. ***Data Wrangling***"
      ],
      "metadata": {
        "id": "dauF4eBmngu3"
      }
    },
    {
      "cell_type": "markdown",
      "source": [
        "### Data Wrangling Code"
      ],
      "metadata": {
        "id": "bKJF3rekwFvQ"
      }
    },
    {
      "cell_type": "code",
      "source": [
        "# Write your code to make your dataset analysis ready.\n",
        "# Convert Age to numeric and remove invalid values\n",
        "df['Age'] = pd.to_numeric(df['Age'], errors='coerce')\n",
        "df.loc[(df['Age'] < 18) | (df['Age'] > 65), 'Age'] = np.nan\n",
        "df['Age'].describe()\n",
        "\n",
        "def clean_gender(gender):\n",
        "    gender = str(gender).lower()\n",
        "    if 'female' in gender:\n",
        "        return 'Female'\n",
        "    elif 'male' in gender:\n",
        "        return 'Male'\n",
        "    else:\n",
        "        return 'Other'\n",
        "\n",
        "df['Gender'] = df['Gender'].apply(clean_gender)\n",
        "df['Gender'].value_counts()"
      ],
      "metadata": {
        "id": "wk-9a2fpoLcV"
      },
      "execution_count": null,
      "outputs": []
    },
    {
      "cell_type": "markdown",
      "source": [
        "### What all manipulations have you done and insights you found?"
      ],
      "metadata": {
        "id": "MSa1f5Uengrz"
      }
    },
    {
      "cell_type": "markdown",
      "source": [
        "Answer Here."
      ],
      "metadata": {
        "id": "LbyXE7I1olp8"
      }
    },
    {
      "cell_type": "markdown",
      "source": [
        "Add exception handling:"
      ],
      "metadata": {
        "id": "pRqgN0xIixph"
      }
    },
    {
      "cell_type": "code",
      "source": [
        "try:\n",
        "    df = pd.read_csv('survey.csv')\n",
        "except Exception as e:\n",
        "    print(\"Error loading dataset:\", e)"
      ],
      "metadata": {
        "id": "RzsohIhMinDL"
      },
      "execution_count": null,
      "outputs": []
    },
    {
      "cell_type": "markdown",
      "source": [
        "## ***4. Data Vizualization, Storytelling & Experimenting with charts : Understand the relationships between variables***"
      ],
      "metadata": {
        "id": "GF8Ens_Soomf"
      }
    },
    {
      "cell_type": "markdown",
      "source": [
        "#### Chart - 1"
      ],
      "metadata": {
        "id": "0wOQAZs5pc--"
      }
    },
    {
      "cell_type": "code",
      "source": [
        "# Chart - 1 visualization code\n",
        "# Gender Distribution (Univariate)\n",
        "\n",
        "# Fix: Ensure gender values are cleaned before plotting\n",
        "unique_genders_before = df['Gender'].unique()\n",
        "print(\"Unique gender values before fix:\", unique_genders_before)\n",
        "\n",
        "# Plot only cleaned categories\n",
        "sns.countplot(x='Gender', data=df[df['Gender'].isin(['Male', 'Female', 'Other'])])\n",
        "plt.title('Distribution of Gender')\n",
        "plt.xlabel('Gender')\n",
        "plt.ylabel('Count')\n",
        "plt.show()"
      ],
      "metadata": {
        "id": "7v_ESjsspbW7"
      },
      "execution_count": null,
      "outputs": []
    },
    {
      "cell_type": "markdown",
      "source": [
        "##### 1. Why did you pick the specific chart?"
      ],
      "metadata": {
        "id": "K5QZ13OEpz2H"
      }
    },
    {
      "cell_type": "markdown",
      "source": [
        "Answer Here.\n",
        "\n",
        "To examine gender diversity in the dataset.\n"
      ],
      "metadata": {
        "id": "XESiWehPqBRc"
      }
    },
    {
      "cell_type": "markdown",
      "source": [
        "##### 2. What is/are the insight(s) found from the chart?"
      ],
      "metadata": {
        "id": "lQ7QKXXCp7Bj"
      }
    },
    {
      "cell_type": "markdown",
      "source": [
        "Answer Here\n",
        "\n",
        "Majority of respondents are Male, with a smaller representation of Female and Other."
      ],
      "metadata": {
        "id": "C_j1G7yiqdRP"
      }
    },
    {
      "cell_type": "markdown",
      "source": [
        "##### 3. Will the gained insights help creating a positive business impact?\n",
        "Are there any insights that lead to negative growth? Justify with specific reason."
      ],
      "metadata": {
        "id": "448CDAPjqfQr"
      }
    },
    {
      "cell_type": "markdown",
      "source": [
        "Answer Here\n",
        "\n",
        "Indicates gender diversity challenge in tech. Diversity impacts inclusivity and mental health policy adoption.\n"
      ],
      "metadata": {
        "id": "3cspy4FjqxJW"
      }
    },
    {
      "cell_type": "markdown",
      "source": [
        "#### Chart - 2"
      ],
      "metadata": {
        "id": "KSlN3yHqYklG"
      }
    },
    {
      "cell_type": "code",
      "source": [
        "# Chart - 2 visualization code\n",
        "# Age Distribution (Univariate)\n",
        "\n",
        "# Fix: Remove extreme outliers and use only valid age values\n",
        "valid_age = df['Age'].dropna()\n",
        "valid_age = valid_age[(valid_age >= 18) & (valid_age <= 65)]  # filter again for good measure\n",
        "\n",
        "sns.histplot(valid_age, kde=True, bins=25, color='teal')\n",
        "plt.title('Age Distribution of Respondents')\n",
        "plt.xlabel('Age')\n",
        "plt.ylabel('Count')\n",
        "plt.grid(True)\n",
        "plt.show()\n"
      ],
      "metadata": {
        "id": "R4YgtaqtYklH"
      },
      "execution_count": null,
      "outputs": []
    },
    {
      "cell_type": "markdown",
      "source": [
        "##### 1. Why did you pick the specific chart?"
      ],
      "metadata": {
        "id": "t6dVpIINYklI"
      }
    },
    {
      "cell_type": "markdown",
      "source": [
        "Answer Here.\n",
        "\n",
        " Understand the most represented age groups in the tech workplace.\n"
      ],
      "metadata": {
        "id": "5aaW0BYyYklI"
      }
    },
    {
      "cell_type": "markdown",
      "source": [
        "##### 2. What is/are the insight(s) found from the chart?"
      ],
      "metadata": {
        "id": "ijmpgYnKYklI"
      }
    },
    {
      "cell_type": "markdown",
      "source": [
        "Answer Here\n",
        "\n",
        " Respondents are largely aged 25–35. Young workforce dominates."
      ],
      "metadata": {
        "id": "PSx9atu2YklI"
      }
    },
    {
      "cell_type": "markdown",
      "source": [
        "##### 3. Will the gained insights help creating a positive business impact?\n",
        "Are there any insights that lead to negative growth? Justify with specific reason."
      ],
      "metadata": {
        "id": "-JiQyfWJYklI"
      }
    },
    {
      "cell_type": "markdown",
      "source": [
        "Answer Here\n",
        "\n",
        "Mental health strategies should be tailored for younger professionals who might have different expectations."
      ],
      "metadata": {
        "id": "BcBbebzrYklV"
      }
    },
    {
      "cell_type": "markdown",
      "source": [
        "#### Chart - 3"
      ],
      "metadata": {
        "id": "EM7whBJCYoAo"
      }
    },
    {
      "cell_type": "code",
      "source": [
        "# Chart - 3 visualization code\n",
        "# Treatment Count (Univariate)\n",
        "\n",
        "sns.countplot(x='treatment', data=df)\n",
        "plt.title('Have You Sought Mental Health Treatment?')\n",
        "plt.show()\n"
      ],
      "metadata": {
        "id": "t6GMdE67YoAp"
      },
      "execution_count": null,
      "outputs": []
    },
    {
      "cell_type": "markdown",
      "source": [
        "##### 1. Why did you pick the specific chart?"
      ],
      "metadata": {
        "id": "fge-S5ZAYoAp"
      }
    },
    {
      "cell_type": "markdown",
      "source": [
        "Answer Here.\n",
        "\n",
        " Understand the proportion of people seeking mental health support."
      ],
      "metadata": {
        "id": "5dBItgRVYoAp"
      }
    },
    {
      "cell_type": "markdown",
      "source": [
        "##### 2. What is/are the insight(s) found from the chart?"
      ],
      "metadata": {
        "id": "85gYPyotYoAp"
      }
    },
    {
      "cell_type": "markdown",
      "source": [
        "Answer Here\n",
        "\n",
        "A significant number of people have sought treatment.\n"
      ],
      "metadata": {
        "id": "4jstXR6OYoAp"
      }
    },
    {
      "cell_type": "markdown",
      "source": [
        "##### 3. Will the gained insights help creating a positive business impact?\n",
        "Are there any insights that lead to negative growth? Justify with specific reason."
      ],
      "metadata": {
        "id": "RoGjAbkUYoAp"
      }
    },
    {
      "cell_type": "markdown",
      "source": [
        "Answer Here\n",
        "\n",
        "Indicates a demand for mental health support in tech organizations.\n"
      ],
      "metadata": {
        "id": "zfJ8IqMcYoAp"
      }
    },
    {
      "cell_type": "markdown",
      "source": [
        "#### Chart - 4"
      ],
      "metadata": {
        "id": "4Of9eVA-YrdM"
      }
    },
    {
      "cell_type": "code",
      "source": [
        "# Chart - 4 visualization code\n",
        "\n",
        "# Remote Work Distribution (Univariate)\n",
        "\n",
        "sns.countplot(x='remote_work', data=df)\n",
        "plt.title('Remote Work Status')\n",
        "plt.show()"
      ],
      "metadata": {
        "id": "irlUoxc8YrdO"
      },
      "execution_count": null,
      "outputs": []
    },
    {
      "cell_type": "markdown",
      "source": [
        "##### 1. Why did you pick the specific chart?"
      ],
      "metadata": {
        "id": "iky9q4vBYrdO"
      }
    },
    {
      "cell_type": "markdown",
      "source": [
        "Answer Here.\n",
        "\n",
        "Remote work can impact isolation and mental health."
      ],
      "metadata": {
        "id": "aJRCwT6DYrdO"
      }
    },
    {
      "cell_type": "markdown",
      "source": [
        "##### 2. What is/are the insight(s) found from the chart?"
      ],
      "metadata": {
        "id": "F6T5p64dYrdO"
      }
    },
    {
      "cell_type": "markdown",
      "source": [
        "Answer Here\n",
        "\n",
        "A good portion of employees work remotely."
      ],
      "metadata": {
        "id": "Xx8WAJvtYrdO"
      }
    },
    {
      "cell_type": "markdown",
      "source": [
        "##### 3. Will the gained insights help creating a positive business impact?\n",
        "Are there any insights that lead to negative growth? Justify with specific reason."
      ],
      "metadata": {
        "id": "y-Ehk30pYrdP"
      }
    },
    {
      "cell_type": "markdown",
      "source": [
        "Answer Here\n",
        "\n",
        "Remote work policies need to include mental health support mechanisms."
      ],
      "metadata": {
        "id": "jLNxxz7MYrdP"
      }
    },
    {
      "cell_type": "markdown",
      "source": [
        "#### Chart - 5"
      ],
      "metadata": {
        "id": "bamQiAODYuh1"
      }
    },
    {
      "cell_type": "code",
      "source": [
        "# Chart - 5 visualization code\n",
        "# Company Size Distribution (Univariate)\n",
        "\n",
        "sns.countplot(y='no_employees', data=df, order=df['no_employees'].value_counts().index)\n",
        "plt.title('Company Size Distribution')\n",
        "plt.show()"
      ],
      "metadata": {
        "id": "TIJwrbroYuh3"
      },
      "execution_count": null,
      "outputs": []
    },
    {
      "cell_type": "markdown",
      "source": [
        "##### 1. Why did you pick the specific chart?"
      ],
      "metadata": {
        "id": "QHF8YVU7Yuh3"
      }
    },
    {
      "cell_type": "markdown",
      "source": [
        "Answer Here.\n",
        "\n",
        "To find the count of companies containing certain number of employees."
      ],
      "metadata": {
        "id": "dcxuIMRPYuh3"
      }
    },
    {
      "cell_type": "markdown",
      "source": [
        "##### 2. What is/are the insight(s) found from the chart?"
      ],
      "metadata": {
        "id": "GwzvFGzlYuh3"
      }
    },
    {
      "cell_type": "markdown",
      "source": [
        "Answer Here\n",
        "\n",
        "Majority work in mid-to-large size organizations."
      ],
      "metadata": {
        "id": "uyqkiB8YYuh3"
      }
    },
    {
      "cell_type": "markdown",
      "source": [
        "##### 3. Will the gained insights help creating a positive business impact?\n",
        "Are there any insights that lead to negative growth? Justify with specific reason."
      ],
      "metadata": {
        "id": "qYpmQ266Yuh3"
      }
    },
    {
      "cell_type": "markdown",
      "source": [
        "Answer Here\n",
        "\n",
        "Mental health resources may be more available in large organizations.\n",
        "\n",
        "Company size may influence availability of resources."
      ],
      "metadata": {
        "id": "_WtzZ_hCYuh4"
      }
    },
    {
      "cell_type": "markdown",
      "source": [
        "#### Chart - 6"
      ],
      "metadata": {
        "id": "OH-pJp9IphqM"
      }
    },
    {
      "cell_type": "code",
      "source": [
        "# Chart - 6 visualization code\n",
        "# Work Interference Frequency (Univariate)\n",
        "\n",
        "sns.countplot(x='work_interfere', data=df)\n",
        "plt.title('Work Interference Due to Mental Health')\n",
        "plt.show()"
      ],
      "metadata": {
        "id": "kuRf4wtuphqN"
      },
      "execution_count": null,
      "outputs": []
    },
    {
      "cell_type": "markdown",
      "source": [
        "##### 1. Why did you pick the specific chart?"
      ],
      "metadata": {
        "id": "bbFf2-_FphqN"
      }
    },
    {
      "cell_type": "markdown",
      "source": [
        "Answer Here.\n",
        "\n",
        "Measures how often mental health interferes with work."
      ],
      "metadata": {
        "id": "loh7H2nzphqN"
      }
    },
    {
      "cell_type": "markdown",
      "source": [
        "##### 2. What is/are the insight(s) found from the chart?"
      ],
      "metadata": {
        "id": "_ouA3fa0phqN"
      }
    },
    {
      "cell_type": "markdown",
      "source": [
        "Answer Here\n",
        "\n",
        "Many respondents report \"Sometimes\" or \"Often\" interference."
      ],
      "metadata": {
        "id": "VECbqPI7phqN"
      }
    },
    {
      "cell_type": "markdown",
      "source": [
        "##### 3. Will the gained insights help creating a positive business impact?\n",
        "Are there any insights that lead to negative growth? Justify with specific reason."
      ],
      "metadata": {
        "id": "Seke61FWphqN"
      }
    },
    {
      "cell_type": "markdown",
      "source": [
        "Answer Here\n",
        "\n",
        " Suggests workplace productivity could improve with better support systems."
      ],
      "metadata": {
        "id": "DW4_bGpfphqN"
      }
    },
    {
      "cell_type": "markdown",
      "source": [
        "#### Chart - 7"
      ],
      "metadata": {
        "id": "PIIx-8_IphqN"
      }
    },
    {
      "cell_type": "code",
      "source": [
        "# Chart - 7 visualization code\n",
        "# Self-Employment Status (Univariate)\n",
        "\n",
        "sns.countplot(x='self_employed', data=df)\n",
        "plt.title('Self-Employment Status')\n",
        "plt.show()"
      ],
      "metadata": {
        "id": "lqAIGUfyphqO"
      },
      "execution_count": null,
      "outputs": []
    },
    {
      "cell_type": "markdown",
      "source": [
        "##### 1. Why did you pick the specific chart?"
      ],
      "metadata": {
        "id": "t27r6nlMphqO"
      }
    },
    {
      "cell_type": "markdown",
      "source": [
        "Answer Here.\n",
        " To find the count of status of self employeed workers."
      ],
      "metadata": {
        "id": "iv6ro40sphqO"
      }
    },
    {
      "cell_type": "markdown",
      "source": [
        "##### 2. What is/are the insight(s) found from the chart?"
      ],
      "metadata": {
        "id": "r2jJGEOYphqO"
      }
    },
    {
      "cell_type": "markdown",
      "source": [
        "Answer Here\n",
        "\n",
        "Most respondents are not self-employed."
      ],
      "metadata": {
        "id": "Po6ZPi4hphqO"
      }
    },
    {
      "cell_type": "markdown",
      "source": [
        "##### 3. Will the gained insights help creating a positive business impact?\n",
        "Are there any insights that lead to negative growth? Justify with specific reason."
      ],
      "metadata": {
        "id": "b0JNsNcRphqO"
      }
    },
    {
      "cell_type": "markdown",
      "source": [
        "Answer Here\n",
        "\n",
        "Self-employed workers may have different access to support.\n",
        "\n",
        "Indicates need to also target mental health policies toward freelancers."
      ],
      "metadata": {
        "id": "xvSq8iUTphqO"
      }
    },
    {
      "cell_type": "markdown",
      "source": [
        "#### Chart - 8"
      ],
      "metadata": {
        "id": "BZR9WyysphqO"
      }
    },
    {
      "cell_type": "code",
      "source": [
        "# Chart - 8 visualization code\n",
        "# Family History of Mental Illness (Univariate)\n",
        "\n",
        "sns.countplot(x='family_history', data=df)\n",
        "plt.title('Family History of Mental Illness')\n",
        "plt.show()\n"
      ],
      "metadata": {
        "id": "TdPTWpAVphqO"
      },
      "execution_count": null,
      "outputs": []
    },
    {
      "cell_type": "markdown",
      "source": [
        "##### 1. Why did you pick the specific chart?"
      ],
      "metadata": {
        "id": "jj7wYXLtphqO"
      }
    },
    {
      "cell_type": "markdown",
      "source": [
        "Answer Here.\n",
        "\n",
        "Family history is a predictor of mental health conditions.\n"
      ],
      "metadata": {
        "id": "Ob8u6rCTphqO"
      }
    },
    {
      "cell_type": "markdown",
      "source": [
        "##### 2. What is/are the insight(s) found from the chart?"
      ],
      "metadata": {
        "id": "eZrbJ2SmphqO"
      }
    },
    {
      "cell_type": "markdown",
      "source": [
        "Answer Here\n",
        "\n",
        " Substantial number of respondents have a family history."
      ],
      "metadata": {
        "id": "mZtgC_hjphqO"
      }
    },
    {
      "cell_type": "markdown",
      "source": [
        "##### 3. Will the gained insights help creating a positive business impact?\n",
        "Are there any insights that lead to negative growth? Justify with specific reason."
      ],
      "metadata": {
        "id": "rFu4xreNphqO"
      }
    },
    {
      "cell_type": "markdown",
      "source": [
        "Answer Here\n",
        "\n",
        " Preventive mental health efforts may benefit these groups."
      ],
      "metadata": {
        "id": "ey_0qi68phqO"
      }
    },
    {
      "cell_type": "markdown",
      "source": [
        "#### Chart - 9"
      ],
      "metadata": {
        "id": "YJ55k-q6phqO"
      }
    },
    {
      "cell_type": "code",
      "source": [
        "# Chart - 9 visualization code\n",
        "# Mental Health Consequences Perceived (Univariate)\n",
        "\n",
        "sns.countplot(x='mental_health_consequence', data=df)\n",
        "plt.title('Perceived Mental Health Consequences at Work')\n",
        "plt.xticks(rotation=45)\n",
        "plt.show()\n"
      ],
      "metadata": {
        "id": "B2aS4O1ophqO"
      },
      "execution_count": null,
      "outputs": []
    },
    {
      "cell_type": "markdown",
      "source": [
        "##### 1. Why did you pick the specific chart?"
      ],
      "metadata": {
        "id": "gCFgpxoyphqP"
      }
    },
    {
      "cell_type": "markdown",
      "source": [
        "Answer Here.\n",
        "\n",
        "To find the count if there has been any percieved mental health consequences at work"
      ],
      "metadata": {
        "id": "TVxDimi2phqP"
      }
    },
    {
      "cell_type": "markdown",
      "source": [
        "##### 2. What is/are the insight(s) found from the chart?"
      ],
      "metadata": {
        "id": "OVtJsKN_phqQ"
      }
    },
    {
      "cell_type": "markdown",
      "source": [
        "Answer Here\n",
        "\n",
        "Many respondents fear consequences."
      ],
      "metadata": {
        "id": "ngGi97qjphqQ"
      }
    },
    {
      "cell_type": "markdown",
      "source": [
        "##### 3. Will the gained insights help creating a positive business impact?\n",
        "Are there any insights that lead to negative growth? Justify with specific reason."
      ],
      "metadata": {
        "id": "lssrdh5qphqQ"
      }
    },
    {
      "cell_type": "markdown",
      "source": [
        "Answer Here\n",
        "\n",
        "Indicates stigma remains a significant barrier.\n",
        "\n",
        "Perception of negative consequences influences help-seeking."
      ],
      "metadata": {
        "id": "tBpY5ekJphqQ"
      }
    },
    {
      "cell_type": "markdown",
      "source": [
        "#### Chart - 10"
      ],
      "metadata": {
        "id": "U2RJ9gkRphqQ"
      }
    },
    {
      "cell_type": "code",
      "source": [
        "# Chart - 10 visualization code\n",
        "\n",
        "# Treatment vs Gender (Bivariate)\n",
        "cleaned_gender_df = df[df['Gender'].isin(['Male', 'Female', 'Other'])]\n",
        "sns.countplot(x='treatment', hue='Gender', data=cleaned_gender_df)\n",
        "plt.title('Treatment Seeking by Cleaned Gender')\n",
        "plt.xlabel('Sought Treatment')\n",
        "plt.ylabel('Count')\n",
        "plt.legend(title='Gender')\n",
        "plt.show()\n"
      ],
      "metadata": {
        "id": "GM7a4YP4phqQ"
      },
      "execution_count": null,
      "outputs": []
    },
    {
      "cell_type": "markdown",
      "source": [
        "##### 1. Why did you pick the specific chart?"
      ],
      "metadata": {
        "id": "1M8mcRywphqQ"
      }
    },
    {
      "cell_type": "markdown",
      "source": [
        "Answer Here.\n",
        "\n",
        "Analyze if treatment-seeking differs by gender."
      ],
      "metadata": {
        "id": "8agQvks0phqQ"
      }
    },
    {
      "cell_type": "markdown",
      "source": [
        "##### 2. What is/are the insight(s) found from the chart?"
      ],
      "metadata": {
        "id": "tgIPom80phqQ"
      }
    },
    {
      "cell_type": "markdown",
      "source": [
        "Answer Here\n",
        "\n",
        "All genders report treatment, with slightly higher Female proportion."
      ],
      "metadata": {
        "id": "Qp13pnNzphqQ"
      }
    },
    {
      "cell_type": "markdown",
      "source": [
        "##### 3. Will the gained insights help creating a positive business impact?\n",
        "Are there any insights that lead to negative growth? Justify with specific reason."
      ],
      "metadata": {
        "id": "JMzcOPDDphqR"
      }
    },
    {
      "cell_type": "markdown",
      "source": [
        "Answer Here\n",
        "\n",
        " Helps tailor outreach programs by gender sensitivity."
      ],
      "metadata": {
        "id": "R4Ka1PC2phqR"
      }
    },
    {
      "cell_type": "markdown",
      "source": [
        "#### Chart - 11"
      ],
      "metadata": {
        "id": "x-EpHcCOp1ci"
      }
    },
    {
      "cell_type": "code",
      "source": [
        "# Chart - 11 visualization code\n",
        "\n",
        "# Age vs Treatment (Bivariate)\n",
        "\n",
        "sns.boxplot(x='treatment', y=valid_age, data=df)\n",
        "plt.title('Age vs Treatment Seeking')\n",
        "plt.show()"
      ],
      "metadata": {
        "id": "mAQTIvtqp1cj"
      },
      "execution_count": null,
      "outputs": []
    },
    {
      "cell_type": "markdown",
      "source": [
        "##### 1. Why did you pick the specific chart?"
      ],
      "metadata": {
        "id": "X_VqEhTip1ck"
      }
    },
    {
      "cell_type": "markdown",
      "source": [
        "Answer Here.\n",
        "\n",
        "Check if age affects likelihood of seeking treatment."
      ],
      "metadata": {
        "id": "-vsMzt_np1ck"
      }
    },
    {
      "cell_type": "markdown",
      "source": [
        "##### 2. What is/are the insight(s) found from the chart?"
      ],
      "metadata": {
        "id": "8zGJKyg5p1ck"
      }
    },
    {
      "cell_type": "markdown",
      "source": [
        "Answer Here\n",
        "\n",
        "Median age for both groups is similar; younger skew for treated.\n"
      ],
      "metadata": {
        "id": "ZYdMsrqVp1ck"
      }
    },
    {
      "cell_type": "markdown",
      "source": [
        "##### 3. Will the gained insights help creating a positive business impact?\n",
        "Are there any insights that lead to negative growth? Justify with specific reason."
      ],
      "metadata": {
        "id": "PVzmfK_Ep1ck"
      }
    },
    {
      "cell_type": "markdown",
      "source": [
        "Answer Here\n",
        "\n",
        " Younger employees may benefit more from early interventions."
      ],
      "metadata": {
        "id": "druuKYZpp1ck"
      }
    },
    {
      "cell_type": "markdown",
      "source": [
        "#### Chart - 12"
      ],
      "metadata": {
        "id": "n3dbpmDWp1ck"
      }
    },
    {
      "cell_type": "code",
      "source": [
        "# Chart - 12 visualization code\n",
        "# Remote Work vs Treatment (Bivariate)\n",
        "\n",
        "sns.countplot(x='remote_work', hue='treatment', data=df)\n",
        "plt.title('Remote Work vs Mental Health Treatment')\n",
        "plt.show()"
      ],
      "metadata": {
        "id": "bwevp1tKp1ck"
      },
      "execution_count": null,
      "outputs": []
    },
    {
      "cell_type": "markdown",
      "source": [
        "##### 1. Why did you pick the specific chart?"
      ],
      "metadata": {
        "id": "ylSl6qgtp1ck"
      }
    },
    {
      "cell_type": "markdown",
      "source": [
        "Answer Here.\n",
        "\n",
        "See if remote workers seek treatment differently.\n"
      ],
      "metadata": {
        "id": "m2xqNkiQp1ck"
      }
    },
    {
      "cell_type": "markdown",
      "source": [
        "##### 2. What is/are the insight(s) found from the chart?"
      ],
      "metadata": {
        "id": "ZWILFDl5p1ck"
      }
    },
    {
      "cell_type": "markdown",
      "source": [
        "Answer Here\n",
        "\n",
        "Minor difference observed."
      ],
      "metadata": {
        "id": "x-lUsV2mp1ck"
      }
    },
    {
      "cell_type": "markdown",
      "source": [
        "##### 3. Will the gained insights help creating a positive business impact?\n",
        "Are there any insights that lead to negative growth? Justify with specific reason."
      ],
      "metadata": {
        "id": "M7G43BXep1ck"
      }
    },
    {
      "cell_type": "markdown",
      "source": [
        "Answer Here\n",
        "\n",
        "Remote work flexibility may improve access or hide struggles."
      ],
      "metadata": {
        "id": "5wwDJXsLp1cl"
      }
    },
    {
      "cell_type": "markdown",
      "source": [
        "#### Chart - 13"
      ],
      "metadata": {
        "id": "Ag9LCva-p1cl"
      }
    },
    {
      "cell_type": "code",
      "source": [
        "# Chart - 13 visualization code\n",
        "# Company Size vs Benefits (Bivariate)\n",
        "\n",
        "sns.countplot(y='no_employees', hue='benefits', data=df)\n",
        "plt.title('Company Size vs Mental Health Benefits')\n",
        "plt.show()"
      ],
      "metadata": {
        "id": "EUfxeq9-p1cl"
      },
      "execution_count": null,
      "outputs": []
    },
    {
      "cell_type": "markdown",
      "source": [
        "##### 1. Why did you pick the specific chart?"
      ],
      "metadata": {
        "id": "E6MkPsBcp1cl"
      }
    },
    {
      "cell_type": "markdown",
      "source": [
        "Answer Here.\n",
        "\n",
        "Larger companies may provide more benefits.\n"
      ],
      "metadata": {
        "id": "V22bRsFWp1cl"
      }
    },
    {
      "cell_type": "markdown",
      "source": [
        "##### 2. What is/are the insight(s) found from the chart?"
      ],
      "metadata": {
        "id": "2cELzS2fp1cl"
      }
    },
    {
      "cell_type": "markdown",
      "source": [
        "Answer Here\n",
        "\n",
        " Confirmed: Large firms report more mental health benefits."
      ],
      "metadata": {
        "id": "ozQPc2_Ip1cl"
      }
    },
    {
      "cell_type": "markdown",
      "source": [
        "##### 3. Will the gained insights help creating a positive business impact?\n",
        "Are there any insights that lead to negative growth? Justify with specific reason."
      ],
      "metadata": {
        "id": "3MPXvC8up1cl"
      }
    },
    {
      "cell_type": "markdown",
      "source": [
        "Answer Here\n",
        "\n",
        "SMEs may need policy guidance or partnership support."
      ],
      "metadata": {
        "id": "GL8l1tdLp1cl"
      }
    },
    {
      "cell_type": "markdown",
      "source": [
        "#### Chart - 14 - Correlation Heatmap"
      ],
      "metadata": {
        "id": "NC_X3p0fY2L0"
      }
    },
    {
      "cell_type": "code",
      "source": [
        "# Correlation Heatmap visualization code\n",
        "from sklearn.preprocessing import LabelEncoder\n",
        "\n",
        "# Select and encode categorical variables for heatmap\n",
        "encoded_df = df[['Age', 'Gender', 'treatment', 'remote_work', 'family_history']].dropna()\n",
        "label_cols = ['Gender', 'treatment', 'remote_work', 'family_history']\n",
        "\n",
        "le = LabelEncoder()\n",
        "for col in label_cols:\n",
        "    encoded_df[col] = le.fit_transform(encoded_df[col])\n",
        "\n",
        "corr_matrix = encoded_df.corr()\n",
        "sns.heatmap(corr_matrix, annot=True, cmap='coolwarm', fmt=\".2f\")\n",
        "plt.title('Correlation Heatmap (Encoded Features)')\n",
        "plt.show()"
      ],
      "metadata": {
        "id": "xyC9zolEZNRQ"
      },
      "execution_count": null,
      "outputs": []
    },
    {
      "cell_type": "markdown",
      "source": [
        "##### 1. Why did you pick the specific chart?"
      ],
      "metadata": {
        "id": "UV0SzAkaZNRQ"
      }
    },
    {
      "cell_type": "markdown",
      "source": [
        "Answer Here.\n",
        "\n",
        " Understand how numeric values relate to each other."
      ],
      "metadata": {
        "id": "DVPuT8LYZNRQ"
      }
    },
    {
      "cell_type": "markdown",
      "source": [
        "##### 2. What is/are the insight(s) found from the chart?"
      ],
      "metadata": {
        "id": "YPEH6qLeZNRQ"
      }
    },
    {
      "cell_type": "markdown",
      "source": [
        "Answer Here\n",
        "\n",
        " Since only Age is numeric, correlation heatmap is simple but useful when more numeric data is engineered."
      ],
      "metadata": {
        "id": "bfSqtnDqZNRR"
      }
    },
    {
      "cell_type": "markdown",
      "source": [
        "3. Will the gained insights help creating a positive business impact?\n",
        "\n",
        "Are there any insights that lead to negative growth? Justify with specific reason."
      ],
      "metadata": {
        "id": "-7fIfvC6svdn"
      }
    },
    {
      "cell_type": "markdown",
      "source": [
        "Framework to include other variables like mental health scores or leave duration."
      ],
      "metadata": {
        "id": "8GxOOjDhtNF9"
      }
    },
    {
      "cell_type": "markdown",
      "source": [
        "#### Chart - 15 - Pair Plot"
      ],
      "metadata": {
        "id": "q29F0dvdveiT"
      }
    },
    {
      "cell_type": "code",
      "source": [
        "# Pair Plot visualization code\n",
        "# Pairplot for Age, Gender and Treatment (Multivariate)\n",
        "\n",
        "pairplot_df = df[(df['Age'].notna()) & (df['Age'] >= 18) & (df['Age'] <= 65)]\n",
        "pairplot_df = pairplot_df[pairplot_df['Gender'].isin(['Male', 'Female', 'Other'])]\n",
        "\n",
        "sns.pairplot(\n",
        "    pairplot_df[['Age', 'Gender', 'treatment']],\n",
        "    hue='treatment',\n",
        "    palette='Set2',\n",
        "    diag_kind='kde'\n",
        ")\n",
        "plt.suptitle('Pairplot of Age, Gender and Treatment (Cleaned)', y=1.02)\n",
        "plt.show()\n"
      ],
      "metadata": {
        "id": "o58-TEIhveiU"
      },
      "execution_count": null,
      "outputs": []
    },
    {
      "cell_type": "markdown",
      "source": [
        "##### 1. Why did you pick the specific chart?"
      ],
      "metadata": {
        "id": "EXh0U9oCveiU"
      }
    },
    {
      "cell_type": "markdown",
      "source": [
        "Answer Here.\n",
        "\n",
        " Explore interactions between numerical and categorical features visually."
      ],
      "metadata": {
        "id": "eMmPjTByveiU"
      }
    },
    {
      "cell_type": "markdown",
      "source": [
        "##### 2. What is/are the insight(s) found from the chart?"
      ],
      "metadata": {
        "id": "22aHeOlLveiV"
      }
    },
    {
      "cell_type": "markdown",
      "source": [
        "Answer Here\n",
        "\n",
        "Visual clusters reveal potential patterns among treatment, age, and gender.\n"
      ],
      "metadata": {
        "id": "uPQ8RGwHveiV"
      }
    },
    {
      "cell_type": "code",
      "source": [
        "# Chart 14: Care Options Known (Univariate)\n",
        "\n",
        "sns.countplot(x='care_options', data=df)\n",
        "plt.title('Awareness of Mental Health Care Options')\n",
        "plt.xticks(rotation=45)\n",
        "plt.show()"
      ],
      "metadata": {
        "id": "N2HiQ8terNo5"
      },
      "execution_count": null,
      "outputs": []
    },
    {
      "cell_type": "markdown",
      "source": [
        "1. Why did you pick the specific chart?\n",
        "\n",
        "\n",
        "Measures employee awareness."
      ],
      "metadata": {
        "id": "Ro9TCVDHraa4"
      }
    },
    {
      "cell_type": "markdown",
      "source": [
        "2. What is/are the insight(s) found from the chart?\n",
        "\n",
        "Many are not aware of their options."
      ],
      "metadata": {
        "id": "CEMWR8MbsJxF"
      }
    },
    {
      "cell_type": "markdown",
      "source": [
        "3. Will the gained insights help creating a positive business impact?\n",
        "\n",
        "Are there any insights that lead to negative growth? Justify with specific reason.\n",
        "\n",
        "Education on available support must be improved."
      ],
      "metadata": {
        "id": "WKvN9mnDsPNl"
      }
    },
    {
      "cell_type": "code",
      "source": [
        "# Chart 15: Anonymity Protection (Univariate)\n",
        "\n",
        "sns.countplot(x='anonymity', data=df)\n",
        "plt.title('Anonymity of Mental Health Disclosure')\n",
        "plt.show()"
      ],
      "metadata": {
        "id": "piror--2sZ0B"
      },
      "execution_count": null,
      "outputs": []
    },
    {
      "cell_type": "markdown",
      "source": [
        "1. Why did you pick the specific chart?\n",
        "\n",
        "Anonymous disclosures increase likelihood of help-seeking."
      ],
      "metadata": {
        "id": "NyVRO60Rsh_T"
      }
    },
    {
      "cell_type": "markdown",
      "source": [
        "2. What is/are the insight(s) found from the chart?\n",
        "\n",
        "Most do not trust anonymity is preserved."
      ],
      "metadata": {
        "id": "BkYhbt_Uspm0"
      }
    },
    {
      "cell_type": "markdown",
      "source": [
        "3. Will the gained insights help creating a positive business impact?\n",
        "\n",
        "Are there any insights that lead to negative growth? Justify with specific reason.\n",
        "\n",
        "Stronger privacy policies are needed to reduce fear."
      ],
      "metadata": {
        "id": "bjokqVDcsvYz"
      }
    },
    {
      "cell_type": "code",
      "source": [
        "# Chart 16: Wellness Programs Discussion (Univariate)\n",
        "\n",
        "sns.countplot(x='wellness_program', data=df)\n",
        "plt.title('Wellness Programs in Organizations')\n",
        "plt.show()"
      ],
      "metadata": {
        "id": "zb5mysWls2Sv"
      },
      "execution_count": null,
      "outputs": []
    },
    {
      "cell_type": "markdown",
      "source": [
        "1. Why did you pick the specific chart?\n",
        "\n",
        "Wellness programs are proactive tools."
      ],
      "metadata": {
        "id": "bZRpWe_etHEa"
      }
    },
    {
      "cell_type": "markdown",
      "source": [
        "2. What is/are the insight(s) found from the chart?\n",
        "\n",
        "Few organizations have discussed them."
      ],
      "metadata": {
        "id": "SlfjZMp6tNvW"
      }
    },
    {
      "cell_type": "markdown",
      "source": [
        "3. Will the gained insights help creating a positive business impact?\n",
        "\n",
        "Are there any insights that lead to negative growth? Justify with specific reason.\n",
        "\n",
        "Missed opportunity to prevent crises through proactive support."
      ],
      "metadata": {
        "id": "vO767KT_twrU"
      }
    },
    {
      "cell_type": "code",
      "source": [
        "# Chart 17: Supervisor Support (Univariate)\n",
        "\n",
        "sns.countplot(x='supervisor', data=df)\n",
        "plt.title('Willingness to Talk to Supervisor')\n",
        "plt.show()"
      ],
      "metadata": {
        "id": "xi2m9ET1t28h"
      },
      "execution_count": null,
      "outputs": []
    },
    {
      "cell_type": "markdown",
      "source": [
        "1. Why did you pick the specific chart?\n",
        "\n",
        "Supervisor openness reflects workplace culture."
      ],
      "metadata": {
        "id": "CRgAejT4t9ZB"
      }
    },
    {
      "cell_type": "markdown",
      "source": [
        "2. What is/are the insight(s) found from the chart?\n",
        "\n",
        "Mixed response: not all are comfortable."
      ],
      "metadata": {
        "id": "SJqZi1yjuk6n"
      }
    },
    {
      "cell_type": "markdown",
      "source": [
        "3. Will the gained insights help creating a positive business impact?\n",
        "\n",
        "Are there any insights that lead to negative growth? Justify with specific reason.\n",
        "\n",
        "Supervisor training on mental health sensitivity needed."
      ],
      "metadata": {
        "id": "Qkq-tM5vuqbV"
      }
    },
    {
      "cell_type": "code",
      "source": [
        "# Chart 18: Leave Policy Perception (Univariate)\n",
        "\n",
        "sns.countplot(x='leave', data=df)\n",
        "plt.title('Ease of Taking Mental Health Leave')\n",
        "plt.xticks(rotation=45)\n",
        "plt.show()"
      ],
      "metadata": {
        "id": "5Or6aiX3uzov"
      },
      "execution_count": null,
      "outputs": []
    },
    {
      "cell_type": "markdown",
      "source": [
        "1. Why did you pick the specific chart?\n",
        "\n",
        "Examines perceived accessibility of leave."
      ],
      "metadata": {
        "id": "IJTlsLxRvFc8"
      }
    },
    {
      "cell_type": "markdown",
      "source": [
        "2. What is/are the insight(s) found from the chart?\n",
        "\n",
        " Many respondents are unsure or report difficulty."
      ],
      "metadata": {
        "id": "WuTSGkMpvLko"
      }
    },
    {
      "cell_type": "markdown",
      "source": [
        "3. Will the gained insights help creating a positive business impact?\n",
        "\n",
        "Are there any insights that lead to negative growth? Justify with specific reason.\n",
        "\n",
        "Policy clarity and ease can significantly impact recovery.\n"
      ],
      "metadata": {
        "id": "f-bQ10u-vQzV"
      }
    },
    {
      "cell_type": "code",
      "source": [
        "# Chart 19: Mental vs Physical Health Perception (Univariate)\n",
        "\n",
        "sns.countplot(x='mental_vs_physical', data=df)\n",
        "plt.title('Mental vs Physical Health Perception')\n",
        "plt.xticks(rotation=45)\n",
        "plt.show()"
      ],
      "metadata": {
        "id": "s_tf_B6ovX2U"
      },
      "execution_count": null,
      "outputs": []
    },
    {
      "cell_type": "markdown",
      "source": [
        "1. Why did you pick the specific chart?\n",
        "\n",
        "Equal perception is key to workplace parity."
      ],
      "metadata": {
        "id": "zo3qyBMdvjbn"
      }
    },
    {
      "cell_type": "markdown",
      "source": [
        "2. What is/are the insight(s) found from the chart?\n",
        "\n",
        "Many don't believe mental and physical health are equally valued."
      ],
      "metadata": {
        "id": "wBqL6y5fvqAW"
      }
    },
    {
      "cell_type": "markdown",
      "source": [
        "3. Will the gained insights help creating a positive business impact?\n",
        "\n",
        "Are there any insights that lead to negative growth? Justify with specific reason.\n",
        "\n",
        "Companies should communicate parity clearly."
      ],
      "metadata": {
        "id": "Ft2TWjgfv7_F"
      }
    },
    {
      "cell_type": "code",
      "source": [
        "# Chart 20: Observed Negative Consequences (Univariate)\n",
        "\n",
        "sns.countplot(x='obs_consequence', data=df)\n",
        "plt.title('Observed Negative Outcomes for Others')\n",
        "plt.show()"
      ],
      "metadata": {
        "id": "xqbTMiLmwCES"
      },
      "execution_count": null,
      "outputs": []
    },
    {
      "cell_type": "markdown",
      "source": [
        "1. Why did you pick the specific chart?\n",
        "\n",
        " Observing stigma discourages disclosure."
      ],
      "metadata": {
        "id": "smddUR6ZwJM-"
      }
    },
    {
      "cell_type": "markdown",
      "source": [
        "2. What is/are the insight(s) found from the chart?\n",
        "\n",
        "Substantial responses of \"Yes\"."
      ],
      "metadata": {
        "id": "8J-M0ZXWwQW8"
      }
    },
    {
      "cell_type": "markdown",
      "source": [
        "3. Will the gained insights help creating a positive business impact?\n",
        "\n",
        "Are there any insights that lead to negative growth? Justify with specific reason.\n",
        "\n",
        "Culture change and peer support initiatives are crucial."
      ],
      "metadata": {
        "id": "VQra1KoLwWjj"
      }
    },
    {
      "cell_type": "markdown",
      "source": [
        "## **5. Solution to Business Objective**"
      ],
      "metadata": {
        "id": "JcMwzZxoAimU"
      }
    },
    {
      "cell_type": "markdown",
      "source": [
        "#### What do you suggest the client to achieve Business Objective ?\n",
        "Explain Briefly."
      ],
      "metadata": {
        "id": "8G2x9gOozGDZ"
      }
    },
    {
      "cell_type": "markdown",
      "source": [
        "Answer Here.\n",
        "\n",
        "# **Business Objective Recommendation**\n",
        "\n",
        "To effectively address mental health challenges in the tech industry, the client should focus on the following strategic actions:\n",
        "\n",
        "**1. Promote a Culture of Openness**\n",
        "\n",
        "*   A significant number of employees fear negative consequences when discussing mental health.\n",
        "*   Introduce anonymous feedback tools, peer support groups, and open dialogue campaigns.\n",
        "\n",
        "\n",
        "\n",
        "**2. Prioritize Manager & Supervisor Training**\n",
        "\n",
        "\n",
        "*   Not all employees are comfortable discussing issues with their supervisors.\n",
        "*   Train managers in mental health first-aid and empathetic communication.\n",
        "\n",
        "**3. Implement & Communicate Clear Leave Policies**\n",
        "\n",
        "\n",
        "*   Many employees are unaware or unsure about mental health leave.\n",
        "*   \n",
        "Simplify, document, and communicate leave policy procedures clearly\n",
        "\n",
        "\n",
        "**4. Expand Awareness of Benefits & Care Options**\n",
        "\n",
        "\n",
        "*   Employees lack awareness of mental health benefits and care options.\n",
        "*   Run internal wellness campaigns and mandatory onboarding sessions on available resources.\n",
        "\n",
        "**5. Tailor Programs Based on Demographics**\n",
        "\n",
        "\n",
        "*   Younger professionals (25–35) and those with family history are more likely to seek help.\n",
        "*   Design targeted programs for these high-impact groups (e.g., mentorship, early-career burnout support).\n",
        "\n",
        "**6. Normalize Mental and Physical Health Equity**\n",
        "\n",
        "\n",
        "*   Many respondents feel mental health isn’t treated equally.\n",
        "*   \n",
        "Standardize benefits, terminology, and recovery protocols for both types of conditions.\n",
        "\n",
        "\n",
        "\n",
        "\n",
        "\n"
      ],
      "metadata": {
        "id": "pASKb0qOza21"
      }
    },
    {
      "cell_type": "markdown",
      "source": [
        "# **Conclusion**"
      ],
      "metadata": {
        "id": "gCX9965dhzqZ"
      }
    },
    {
      "cell_type": "markdown",
      "source": [
        "Write the conclusion here.\n",
        "\n",
        "The analysis highlights a clear need for improved mental health support systems in tech workplaces.\n",
        "\n",
        "**Key areas for action include:**\n",
        "\n",
        "\n",
        "*    Raising awareness about mental health benefits and care options.\n",
        "\n",
        "*    Building trust through protected anonymity and supportive leave policies.\n",
        "*   Training supervisors to handle mental health conversations sensitively.\n",
        "\n",
        "\n",
        "*  Ensuring parity between physical and mental health support.\n",
        "\n",
        "*   Targeting efforts toward younger employees and those with family history of mental illness.\n",
        "\n",
        "\n",
        " Implementing these strategies can foster a more inclusive, productive, and emotionally healthy work environment.\n"
      ],
      "metadata": {
        "id": "Fjb1IsQkh3yE"
      }
    },
    {
      "cell_type": "markdown",
      "source": [
        "### ***Hurrah! You have successfully completed your EDA Capstone Project !!!***"
      ],
      "metadata": {
        "id": "gIfDvo9L0UH2"
      }
    }
  ]
}